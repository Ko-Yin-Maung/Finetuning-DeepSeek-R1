{
  "cells": [
    {
      "cell_type": "code",
      "execution_count": 1,
      "metadata": {
        "colab": {
          "base_uri": "https://localhost:8080/"
        },
        "id": "GD40HHVGrfmc",
        "outputId": "669304f9-db2d-4dde-98ee-7103c62fc7a4"
      },
      "outputs": [
        {
          "name": "stdout",
          "output_type": "stream",
          "text": [
            "Drive already mounted at /content/drive; to attempt to forcibly remount, call drive.mount(\"/content/drive\", force_remount=True).\n"
          ]
        }
      ],
      "source": [
        "from google.colab import drive\n",
        "drive.mount('/content/drive')"
      ]
    },
    {
      "cell_type": "code",
      "execution_count": 2,
      "metadata": {
        "colab": {
          "base_uri": "https://localhost:8080/"
        },
        "id": "rVCJ5nW4rU_5",
        "outputId": "419c88b8-13cd-4f9d-fa49-28d8b79a48d9"
      },
      "outputs": [
        {
          "name": "stdout",
          "output_type": "stream",
          "text": [
            "Requirement already satisfied: unsloth in /usr/local/lib/python3.11/dist-packages (2025.3.1)\n"
          ]
        }
      ],
      "source": [
        "!pip install unsloth"
      ]
    },
    {
      "cell_type": "code",
      "execution_count": 3,
      "metadata": {
        "colab": {
          "base_uri": "https://localhost:8080/"
        },
        "id": "fxkgmCopxjeL",
        "outputId": "2252edf2-1daa-4650-c4d9-e368fdaf2498"
      },
      "outputs": [
        {
          "name": "stdout",
          "output_type": "stream",
          "text": [
            "Found existing installation: unsloth 2025.3.1\n",
            "Uninstalling unsloth-2025.3.1:\n",
            "  Successfully uninstalled unsloth-2025.3.1\n",
            "Collecting git+https://github.com/unslothai/unsloth.git\n",
            "  Cloning https://github.com/unslothai/unsloth.git to /tmp/pip-req-build-a06ewl4o\n",
            "  Running command git clone --filter=blob:none --quiet https://github.com/unslothai/unsloth.git /tmp/pip-req-build-a06ewl4o\n",
            "  Resolved https://github.com/unslothai/unsloth.git to commit 5d0ee525c1b6a3522f64ad9722249ae34b584555\n",
            "  Installing build dependencies ... \u001b[?25l\u001b[?25hdone\n",
            "  Getting requirements to build wheel ... \u001b[?25l\u001b[?25hdone\n",
            "  Preparing metadata (pyproject.toml) ... \u001b[?25l\u001b[?25hdone\n",
            "Building wheels for collected packages: unsloth\n",
            "  Building wheel for unsloth (pyproject.toml) ... \u001b[?25l\u001b[?25hdone\n",
            "  Created wheel for unsloth: filename=unsloth-2025.3.1-py3-none-any.whl size=189066 sha256=e9debcd658bd813b66c6c96d8a68a851234883f92a420f2bcdc1d342ddbbec5a\n",
            "  Stored in directory: /tmp/pip-ephem-wheel-cache-3ea2q48m/wheels/d1/17/05/850ab10c33284a4763b0595cd8ea9d01fce6e221cac24b3c01\n",
            "Successfully built unsloth\n",
            "Installing collected packages: unsloth\n",
            "Successfully installed unsloth-2025.3.1\n"
          ]
        }
      ],
      "source": [
        "!pip uninstall unsloth -y && pip install --upgrade --no-cache-dir --no-deps git+https://github.com/unslothai/unsloth.git"
      ]
    },
    {
      "cell_type": "code",
      "execution_count": null,
      "metadata": {},
      "outputs": [],
      "source": [
        "import torch\n",
        "from unsloth import FastLanguageModel, is_bfloat16_supported\n",
        "from datasets import load_dataset\n",
        "from transformers import AutoTokenizer, TrainingArguments\n",
        "from trl import SFTTrainer"
      ]
    },
    {
      "cell_type": "code",
      "execution_count": null,
      "metadata": {
        "colab": {
          "base_uri": "https://localhost:8080/"
        },
        "id": "YxaQS55rxsTk",
        "outputId": "138a6ec8-4a5a-44b1-e0bb-23ded1ffc6be"
      },
      "outputs": [
        {
          "name": "stdout",
          "output_type": "stream",
          "text": [
            "🦥 Unsloth: Will patch your computer to enable 2x faster free finetuning.\n",
            "🦥 Unsloth Zoo will now patch everything to make training faster!\n",
            "==((====))==  Unsloth 2025.3.1: Fast Llama patching. Transformers: 4.49.0.\n",
            "   \\\\   /|    GPU: Tesla T4. Max memory: 14.741 GB. Platform: Linux.\n",
            "O^O/ \\_/ \\    Torch: 2.6.0+cu124. CUDA: 7.5. CUDA Toolkit: 12.4. Triton: 3.2.0\n",
            "\\        /    Bfloat16 = FALSE. FA [Xformers = 0.0.29.post3. FA2 = False]\n",
            " \"-____-\"     Free Apache license: http://github.com/unslothai/unsloth\n",
            "Unsloth: Fast downloading is enabled - ignore downloading bars which are red colored!\n"
          ]
        }
      ],
      "source": [
        "model, tokenizer = FastLanguageModel.from_pretrained(\n",
        "    model_name = \"unsloth/DeepSeek-R1-Distill-Llama-8B-unsloth-bnb-4bit\",\n",
        "    max_seq_length = 2048,\n",
        "    dtype = None,\n",
        "    load_in_4bit = True,\n",
        ")"
      ]
    },
    {
      "cell_type": "code",
      "execution_count": 5,
      "metadata": {
        "colab": {
          "base_uri": "https://localhost:8080/"
        },
        "id": "JFaR8Wj0yPNV",
        "outputId": "01be0b0f-93e5-4305-9960-d995cff180b8"
      },
      "outputs": [
        {
          "name": "stdout",
          "output_type": "stream",
          "text": [
            "Encoded : [128000, 25870, 238, 25870, 109, 25870, 105, 25870, 226, 25870, 118, 25870, 238, 25870, 109, 25870, 105, 25870, 249, 25870, 248, 25870, 118, 25870, 252, 25870, 105, 220, 25870, 247, 25870, 105, 25870, 250, 25870, 105, 25870, 222, 220, 25870, 226, 25870, 107, 25870, 114, 25870, 244, 25870, 108, 25870, 116]\n",
            "Decoded : <｜begin▁of▁sentence｜>တောင်တောရယ်သာ မာလာက ငုံဖူး\n"
          ]
        }
      ],
      "source": [
        "text = \"တောင်တောရယ်သာ မာလာက ငုံဖူး\"\n",
        "encoded_text = tokenizer.encode(text)\n",
        "decoded_text = tokenizer.decode(encoded_text)\n",
        "print(f\"Encoded : {encoded_text}\")\n",
        "print(f\"Decoded : {decoded_text}\")"
      ]
    },
    {
      "cell_type": "code",
      "execution_count": 6,
      "metadata": {
        "colab": {
          "base_uri": "https://localhost:8080/"
        },
        "id": "02xfsx8Ixtbn",
        "outputId": "287c2908-e347-4f44-e942-7cbf365d42a7"
      },
      "outputs": [
        {
          "name": "stderr",
          "output_type": "stream",
          "text": [
            "Not an error, but Unsloth cannot patch MLP layers with our manual autograd engine since either LoRA adapters\n",
            "are not enabled or a bias term (like in Qwen) is used.\n",
            "Unsloth 2025.3.1 patched 32 layers with 32 QKV layers, 32 O layers and 0 MLP layers.\n"
          ]
        }
      ],
      "source": [
        "model = FastLanguageModel.get_peft_model(\n",
        "    model,\n",
        "    r = 4,\n",
        "    target_modules = [\"q_proj\", \"k_proj\", \"v_proj\", \"o_proj\"],\n",
        "    lora_alpha = 16,\n",
        "    lora_dropout = 0,\n",
        "    bias = \"none\",\n",
        "    use_gradient_checkpointing = \"unsloth\",\n",
        "    random_state = 42,\n",
        "    use_rslora = False,\n",
        "    loftq_config = None,\n",
        ")"
      ]
    },
    {
      "cell_type": "code",
      "execution_count": null,
      "metadata": {
        "colab": {
          "base_uri": "https://localhost:8080/"
        },
        "id": "e27DC_9xzmdU",
        "outputId": "2f16e0b5-2527-4495-bc14-5b0b78225f02"
      },
      "outputs": [
        {
          "name": "stdout",
          "output_type": "stream",
          "text": [
            "['Instruction', 'Input', 'Output']\n"
          ]
        },
        {
          "data": {
            "text/plain": [
              "Dataset({\n",
              "    features: ['Instruction', 'Input', 'Output'],\n",
              "    num_rows: 1260\n",
              "})"
            ]
          },
          "execution_count": 24,
          "metadata": {},
          "output_type": "execute_result"
        }
      ],
      "source": [
        "dataset = load_dataset('json', data_files=\"/content/drive/MyDrive/R1_8B_Unsloth/Microbiology.json\", split = \"train\")\n",
        "print(dataset.column_names)\n",
        "dataset"
      ]
    },
    {
      "cell_type": "code",
      "execution_count": null,
      "metadata": {
        "colab": {
          "base_uri": "https://localhost:8080/",
          "height": 122,
          "referenced_widgets": [
            "f39b078e8b794227a9d150b3d99e84c3",
            "e1fe5ede5f834906a62f8f0d1ade61d6",
            "5e1b9cbb4c6a43619e89f2d2d1241b60",
            "8b2e8fdcc19f41f6b2da703a3298d072",
            "6099460f71254997af431ca6a629e2b1",
            "3ad37710e7de48bfb79498d04031b42e",
            "05d6eadbd6394c61a9973adcd7f640b7",
            "3ea51f9b4d254c1ba4931b392b29a867",
            "98c036a88629491cb7451fa116849507",
            "9f7d4d67ae59450db7807f8144feb960",
            "5f0159cd3959475b8e9e17c79194ad7a"
          ]
        },
        "id": "1SaBQSepO5IW",
        "outputId": "2129e75d-8992-486b-d457-a10953d9f898"
      },
      "outputs": [
        {
          "data": {
            "application/vnd.jupyter.widget-view+json": {
              "model_id": "f39b078e8b794227a9d150b3d99e84c3",
              "version_major": 2,
              "version_minor": 0
            },
            "text/plain": [
              "Map:   0%|          | 0/1260 [00:00<?, ? examples/s]"
            ]
          },
          "metadata": {},
          "output_type": "display_data"
        },
        {
          "data": {
            "text/plain": [
              "Dataset({\n",
              "    features: ['Instruction', 'Input', 'Output', 'text'],\n",
              "    num_rows: 1260\n",
              "})"
            ]
          },
          "execution_count": 40,
          "metadata": {},
          "output_type": "execute_result"
        }
      ],
      "source": [
        "## Define your chat template\n",
        "chat_template = \"\"\"\n",
        "### Instruction:\n",
        "{INPUT}\n",
        "\n",
        "### Response:\n",
        "{OUTPUT}\"\"\"\n",
        "\n",
        "## Apply the chat template manually\n",
        "def apply_chat_template_manually(example, chat_template):\n",
        "    formatted_text = chat_template.format(INPUT=example[\"Instruction\"], OUTPUT= example[\"Output\"])\n",
        "    return {\"text\": formatted_text}\n",
        "\n",
        "dataset = dataset.map(apply_chat_template_manually, fn_kwargs={\"chat_template\": chat_template})\n",
        "dataset"
      ]
    },
    {
      "cell_type": "code",
      "execution_count": 41,
      "metadata": {
        "colab": {
          "base_uri": "https://localhost:8080/"
        },
        "id": "PF-UwwMnO9D-",
        "outputId": "dca58fe3-ecf4-4c8c-c6ad-e001307a21bb"
      },
      "outputs": [
        {
          "data": {
            "text/plain": [
              "{'Instruction': 'အဏုဇီဝဗေဒ ဆိုတာ ဘာလဲ ရှင်းပြပါ',\n",
              " 'Input': '',\n",
              " 'Output': 'အဏုဇီဝဗေဒသည် မျက်စိဖြင့် မမြင်နိုင်သော အဏုဇီဝ သက်ရှိများကို လေ့လာသည့် သိပ္ပံပညာရပ် ဖြစ်သည် ။ ဤပညာရပ်တွင် ဘက်တီးရီးယား ၊ ဗိုင်းရပ်စ်၊ မှို၊ နှင့် protozoa များကို အဓိက လေ့လာသည် ။',\n",
              " 'text': '\\n### Instruction:\\nအဏုဇီဝဗေဒ ဆိုတာ ဘာလဲ ရှင်းပြပါ\\n\\n### Response:\\nအဏုဇီဝဗေဒသည် မျက်စိဖြင့် မမြင်နိုင်သော အဏုဇီဝ သက်ရှိများကို လေ့လာသည့် သိပ္ပံပညာရပ် ဖြစ်သည် ။ ဤပညာရပ်တွင် ဘက်တီးရီးယား ၊ ဗိုင်းရပ်စ်၊ မှို၊ နှင့် protozoa များကို အဓိက လေ့လာသည် ။'}"
            ]
          },
          "execution_count": 41,
          "metadata": {},
          "output_type": "execute_result"
        }
      ],
      "source": [
        "dataset[0]"
      ]
    },
    {
      "cell_type": "markdown",
      "metadata": {
        "id": "o_WlYewTTL8k"
      },
      "source": [
        "Total batch size = 16:\n",
        "The effective batch size is 4 (batch size) * 4 (gradient accumulation) = 16\n",
        "\n",
        "Steps per epoch\n",
        "=  Num examples / Total batch size\n",
        "​= 1,260 / 16\n",
        "​= 78.75 ≈ 79 steps"
      ]
    },
    {
      "cell_type": "code",
      "execution_count": null,
      "metadata": {
        "colab": {
          "base_uri": "https://localhost:8080/",
          "height": 573
        },
        "id": "z_Hq-3SmEh5g",
        "outputId": "cd4207f9-c1e5-4770-9b27-f76de7964dfd"
      },
      "outputs": [
        {
          "name": "stderr",
          "output_type": "stream",
          "text": [
            "==((====))==  Unsloth - 2x faster free finetuning | Num GPUs = 1\n",
            "   \\\\   /|    Num examples = 1,260 | Num Epochs = 26\n",
            "O^O/ \\_/ \\    Batch size per device = 4 | Gradient Accumulation steps = 4\n",
            "\\        /    Total batch size = 16 | Total steps = 2,000\n",
            " \"-____-\"     Number of trainable parameters = 3,407,872\n"
          ]
        },
        {
          "data": {
            "text/html": [
              "\n",
              "    <div>\n",
              "      \n",
              "      <progress value='141' max='2000' style='width:300px; height:20px; vertical-align: middle;'></progress>\n",
              "      [ 141/2000 51:50 < 11:33:22, 0.04 it/s, Epoch 1.77/26]\n",
              "    </div>\n",
              "    <table border=\"1\" class=\"dataframe\">\n",
              "  <thead>\n",
              " <tr style=\"text-align: left;\">\n",
              "      <th>Step</th>\n",
              "      <th>Training Loss</th>\n",
              "    </tr>\n",
              "  </thead>\n",
              "  <tbody>\n",
              "    <tr>\n",
              "      <td>10</td>\n",
              "      <td>0.541600</td>\n",
              "    </tr>\n",
              "    <tr>\n",
              "      <td>20</td>\n",
              "      <td>0.559500</td>\n",
              "    </tr>\n",
              "    <tr>\n",
              "      <td>30</td>\n",
              "      <td>0.494500</td>\n",
              "    </tr>\n",
              "    <tr>\n",
              "      <td>40</td>\n",
              "      <td>0.474400</td>\n",
              "    </tr>\n",
              "    <tr>\n",
              "      <td>50</td>\n",
              "      <td>0.446200</td>\n",
              "    </tr>\n",
              "    <tr>\n",
              "      <td>60</td>\n",
              "      <td>0.437000</td>\n",
              "    </tr>\n",
              "    <tr>\n",
              "      <td>70</td>\n",
              "      <td>0.431600</td>\n",
              "    </tr>\n",
              "    <tr>\n",
              "      <td>80</td>\n",
              "      <td>0.408700</td>\n",
              "    </tr>\n",
              "    <tr>\n",
              "      <td>90</td>\n",
              "      <td>0.364100</td>\n",
              "    </tr>\n",
              "    <tr>\n",
              "      <td>100</td>\n",
              "      <td>0.355900</td>\n",
              "    </tr>\n",
              "    <tr>\n",
              "      <td>110</td>\n",
              "      <td>0.344200</td>\n",
              "    </tr>\n",
              "    <tr>\n",
              "      <td>120</td>\n",
              "      <td>0.366100</td>\n",
              "    </tr>\n",
              "    <tr>\n",
              "      <td>130</td>\n",
              "      <td>0.357200</td>\n",
              "    </tr>\n",
              "  </tbody>\n",
              "</table><p>"
            ],
            "text/plain": [
              "<IPython.core.display.HTML object>"
            ]
          },
          "metadata": {},
          "output_type": "display_data"
        }
      ],
      "source": [
        "## Initialize the SFTTrainer\n",
        "trainer = SFTTrainer(\n",
        "    model=model,\n",
        "    tokenizer=tokenizer,\n",
        "    train_dataset=dataset,\n",
        "    dataset_text_field=\"text\",\n",
        "    max_seq_length=2048,\n",
        "    dataset_num_proc=2,\n",
        "    packing=False,\n",
        "    args=TrainingArguments(\n",
        "        per_device_train_batch_size=4,\n",
        "        gradient_accumulation_steps=4,\n",
        "        warmup_steps=5,\n",
        "        max_steps=2000,\n",
        "        learning_rate=2e-4,\n",
        "        fp16=not is_bfloat16_supported(),\n",
        "        bf16=is_bfloat16_supported(),\n",
        "        logging_steps=10,\n",
        "        optim=\"adamw_8bit\",\n",
        "        weight_decay=0.01,\n",
        "        lr_scheduler_type=\"linear\",\n",
        "        seed=3407,\n",
        "        output_dir=\"/content/drive/MyDrive/R1_8B_Unsloth/outputs\",\n",
        "        report_to=\"none\",  # Use this for WandB etc\n",
        "    ),\n",
        ")\n",
        "trainer_stats = trainer.train()"
      ]
    },
    {
      "cell_type": "code",
      "execution_count": null,
      "metadata": {
        "id": "EoYyzqc8JZcJ"
      },
      "outputs": [],
      "source": [
        "## Save the model and tokenizer\n",
        "model.save_pretrained(\"/content/drive/MyDrive/R1_8B_Unsloth/outputs/model\")\n",
        "tokenizer.save_pretrained(\"/content/drive/MyDrive/R1_8B_Unsloth/outputs/model\")"
      ]
    },
    {
      "cell_type": "markdown",
      "metadata": {},
      "source": [
        "### Inference"
      ]
    },
    {
      "cell_type": "code",
      "execution_count": null,
      "metadata": {
        "colab": {
          "base_uri": "https://localhost:8080/"
        },
        "id": "3QFM-Y2tJZZK",
        "outputId": "0bbf292c-049b-4674-ecee-67c8ef44b131"
      },
      "outputs": [
        {
          "name": "stdout",
          "output_type": "stream",
          "text": [
            "==((====))==  Unsloth 2025.3.1: Fast Llama patching. Transformers: 4.49.0.\n",
            "   \\\\   /|    GPU: Tesla T4. Max memory: 14.741 GB. Platform: Linux.\n",
            "O^O/ \\_/ \\    Torch: 2.6.0+cu124. CUDA: 7.5. CUDA Toolkit: 12.4. Triton: 3.2.0\n",
            "\\        /    Bfloat16 = FALSE. FA [Xformers = 0.0.29.post3. FA2 = False]\n",
            " \"-____-\"     Free Apache license: http://github.com/unslothai/unsloth\n",
            "Unsloth: Fast downloading is enabled - ignore downloading bars which are red colored!\n"
          ]
        }
      ],
      "source": [
        "from unsloth import FastLanguageModel\n",
        "from transformers import AutoTokenizer\n",
        "\n",
        "## Load the model and tokenizer\n",
        "model2, tokenizer2 = FastLanguageModel.from_pretrained(\n",
        "    model_name=\"/content/drive/MyDrive/R1_8B_Unsloth/outputs/model\",\n",
        "    max_seq_length=2048,\n",
        "    dtype=None,\n",
        "    load_in_4bit=True,\n",
        ")\n",
        "\n",
        "## Prepare the model for inference\n",
        "model2 = FastLanguageModel.for_inference(model2)"
      ]
    },
    {
      "cell_type": "code",
      "execution_count": null,
      "metadata": {
        "colab": {
          "base_uri": "https://localhost:8080/"
        },
        "id": "mmNGxsjUJZWN",
        "outputId": "d8eec074-fa70-4ed6-b674-958d7a1be36f"
      },
      "outputs": [
        {
          "name": "stdout",
          "output_type": "stream",
          "text": [
            "Response: Capsule ၏ လုပ်ဆောင်ချက်ကို ရှင်းပြပါ ။\n",
            "\n",
            "### လုပ်ဆောင်ချက်များ\n",
            "\n",
            "1. **ကွန်ပွဲခြင်း**:\n",
            "   - အသွေအချိုးအမျိုးဖြင့် ကွန်ပွဲခြင်း ရှိပါ လည်း လုပ်ဆောင်ချက်ကို ဆောင်သည် အချိုးပိုမိုးရှိသော ကွန်ပွဲများနှင့် အမျိုးရှိသော ကွန်ပွဲများ ဆောင်ချသည် ။\n",
            "\n",
            "2. **စက်ရှင်းခြင်း**:\n",
            "   - ကွန်ပွဲများက စက်ရှင်းခြင်းများကို ဆောင်ချသည် ။ စက်ရှင်းခြင်းများက အသွေအချိုးများရှိသော ကွန်ပွဲများ များစွာ ဆောင်ချသည် ။\n",
            "\n",
            "3. **အသွေအချိုး များစွာ ဆောင်ချခြင်း**:\n",
            "   - အသွေအချိုး များစွာ ဆောင်ချသည် ။ အသွေအချိုး များစွာ ရှိသော ကွန်ပွဲများ ဆောင်ချသည် ။\n",
            "\n",
            "4. **အချိုးဆောင်ခြင်း**:\n",
            "   - အချိုးဆောင်ခြင်း ရှိသော ကွန်ပွဲများ ဆောင်ချသည် ။ အချိုးဆောင်ခြင်းများက အသွေအချိုး များစွာ ဆောင်ချသည် ။\n",
            "\n",
            "### လုပ်ဆောင်ချက်များ\n",
            "\n",
            "1. **အသွေအချိုးရှိ ကွန်ပွဲများ**:\n",
            "   - အသွေအချိုးရှိ ကွန်ပွဲများက အချိုးဆောင်ချပါ လည်း လုပ်ဆောင်ချခြင်းကို ဆောင်သည် ။\n",
            "\n",
            "2. **စက်ရှင်းခြင်း ရှိသော ကွန်ပွဲများ**:\n",
            "   - စက်ရှင်းခြင်း ရှိသော ကွန်ပွဲများက အချိုးဆောင်ချပါ လည်း လုပ်ဆောင်ချခြင်းကို ဆောင်သည် ။\n",
            "\n",
            "3. **အချိုးဆောင်ခြင်း ရှိသော ကွန်ပွဲများ**:\n",
            "   - အချိုးဆောင်ခြင်း ရှိသော ကွန်ပွဲများက အသွေအချိုး များစွာ ဆောင်ချသည် ။\n",
            "\n",
            "### လုပ်ဆောင်ချခြင်းများ\n",
            "\n",
            "1. **အသွေအချိုး**:\n",
            "   - အသွေအချိုး ရှိသော ကွန်ပွဲများ များစွာ ဆောင်ချသည် ။\n",
            "\n",
            "2. **အချိုး**:\n",
            "   - အချိုး ရှိသော ကွန်ပွ\n"
          ]
        }
      ],
      "source": [
        "## Define a function for inference\n",
        "def generate_response(model, tokenizer, input_text, max_length=2048):\n",
        "    ## Encode the input text\n",
        "    inputs = tokenizer(input_text, return_tensors=\"pt\", truncation=True, padding=True)\n",
        "\n",
        "    ## Generate the output\n",
        "    outputs = model.generate(\n",
        "        input_ids=inputs[\"input_ids\"].to(model.device),\n",
        "        attention_mask=inputs[\"attention_mask\"].to(model.device),\n",
        "        max_length=max_length,\n",
        "        num_return_sequences=1,\n",
        "        pad_token_id=tokenizer.eos_token_id,\n",
        "    )\n",
        "\n",
        "    ## Decode the output\n",
        "    response = tokenizer.decode(outputs[0], skip_special_tokens=True)\n",
        "    return response\n",
        "\n",
        "input_text = \"Capsule ၏ လုပ်ဆောင်ချက်ကို ရှင်းပြပါ ။\"\n",
        "response = generate_response(model2, tokenizer2, input_text)\n",
        "print(f\"Response: {response}\")"
      ]
    },
    {
      "cell_type": "code",
      "execution_count": null,
      "metadata": {
        "id": "eJoK0GaFK-E6"
      },
      "outputs": [],
      "source": []
    },
    {
      "cell_type": "code",
      "execution_count": null,
      "metadata": {
        "id": "Kvh5CFKJK-Bd"
      },
      "outputs": [],
      "source": []
    },
    {
      "cell_type": "code",
      "execution_count": null,
      "metadata": {
        "id": "ynz-91MdJZS7"
      },
      "outputs": [],
      "source": []
    },
    {
      "cell_type": "code",
      "execution_count": null,
      "metadata": {
        "id": "b64E8JrY7ixo"
      },
      "outputs": [],
      "source": []
    }
  ],
  "metadata": {
    "accelerator": "GPU",
    "colab": {
      "gpuType": "T4",
      "provenance": []
    },
    "kernelspec": {
      "display_name": "Python 3",
      "name": "python3"
    },
    "language_info": {
      "codemirror_mode": {
        "name": "ipython",
        "version": 3
      },
      "file_extension": ".py",
      "mimetype": "text/x-python",
      "name": "python",
      "nbconvert_exporter": "python",
      "pygments_lexer": "ipython3",
      "version": "3.10.11"
    },
    "widgets": {
      "application/vnd.jupyter.widget-state+json": {
        "05d6eadbd6394c61a9973adcd7f640b7": {
          "model_module": "@jupyter-widgets/controls",
          "model_module_version": "1.5.0",
          "model_name": "DescriptionStyleModel",
          "state": {
            "_model_module": "@jupyter-widgets/controls",
            "_model_module_version": "1.5.0",
            "_model_name": "DescriptionStyleModel",
            "_view_count": null,
            "_view_module": "@jupyter-widgets/base",
            "_view_module_version": "1.2.0",
            "_view_name": "StyleView",
            "description_width": ""
          }
        },
        "3ad37710e7de48bfb79498d04031b42e": {
          "model_module": "@jupyter-widgets/base",
          "model_module_version": "1.2.0",
          "model_name": "LayoutModel",
          "state": {
            "_model_module": "@jupyter-widgets/base",
            "_model_module_version": "1.2.0",
            "_model_name": "LayoutModel",
            "_view_count": null,
            "_view_module": "@jupyter-widgets/base",
            "_view_module_version": "1.2.0",
            "_view_name": "LayoutView",
            "align_content": null,
            "align_items": null,
            "align_self": null,
            "border": null,
            "bottom": null,
            "display": null,
            "flex": null,
            "flex_flow": null,
            "grid_area": null,
            "grid_auto_columns": null,
            "grid_auto_flow": null,
            "grid_auto_rows": null,
            "grid_column": null,
            "grid_gap": null,
            "grid_row": null,
            "grid_template_areas": null,
            "grid_template_columns": null,
            "grid_template_rows": null,
            "height": null,
            "justify_content": null,
            "justify_items": null,
            "left": null,
            "margin": null,
            "max_height": null,
            "max_width": null,
            "min_height": null,
            "min_width": null,
            "object_fit": null,
            "object_position": null,
            "order": null,
            "overflow": null,
            "overflow_x": null,
            "overflow_y": null,
            "padding": null,
            "right": null,
            "top": null,
            "visibility": null,
            "width": null
          }
        },
        "3ea51f9b4d254c1ba4931b392b29a867": {
          "model_module": "@jupyter-widgets/base",
          "model_module_version": "1.2.0",
          "model_name": "LayoutModel",
          "state": {
            "_model_module": "@jupyter-widgets/base",
            "_model_module_version": "1.2.0",
            "_model_name": "LayoutModel",
            "_view_count": null,
            "_view_module": "@jupyter-widgets/base",
            "_view_module_version": "1.2.0",
            "_view_name": "LayoutView",
            "align_content": null,
            "align_items": null,
            "align_self": null,
            "border": null,
            "bottom": null,
            "display": null,
            "flex": null,
            "flex_flow": null,
            "grid_area": null,
            "grid_auto_columns": null,
            "grid_auto_flow": null,
            "grid_auto_rows": null,
            "grid_column": null,
            "grid_gap": null,
            "grid_row": null,
            "grid_template_areas": null,
            "grid_template_columns": null,
            "grid_template_rows": null,
            "height": null,
            "justify_content": null,
            "justify_items": null,
            "left": null,
            "margin": null,
            "max_height": null,
            "max_width": null,
            "min_height": null,
            "min_width": null,
            "object_fit": null,
            "object_position": null,
            "order": null,
            "overflow": null,
            "overflow_x": null,
            "overflow_y": null,
            "padding": null,
            "right": null,
            "top": null,
            "visibility": null,
            "width": null
          }
        },
        "5e1b9cbb4c6a43619e89f2d2d1241b60": {
          "model_module": "@jupyter-widgets/controls",
          "model_module_version": "1.5.0",
          "model_name": "FloatProgressModel",
          "state": {
            "_dom_classes": [],
            "_model_module": "@jupyter-widgets/controls",
            "_model_module_version": "1.5.0",
            "_model_name": "FloatProgressModel",
            "_view_count": null,
            "_view_module": "@jupyter-widgets/controls",
            "_view_module_version": "1.5.0",
            "_view_name": "ProgressView",
            "bar_style": "success",
            "description": "",
            "description_tooltip": null,
            "layout": "IPY_MODEL_3ea51f9b4d254c1ba4931b392b29a867",
            "max": 1260,
            "min": 0,
            "orientation": "horizontal",
            "style": "IPY_MODEL_98c036a88629491cb7451fa116849507",
            "value": 1260
          }
        },
        "5f0159cd3959475b8e9e17c79194ad7a": {
          "model_module": "@jupyter-widgets/controls",
          "model_module_version": "1.5.0",
          "model_name": "DescriptionStyleModel",
          "state": {
            "_model_module": "@jupyter-widgets/controls",
            "_model_module_version": "1.5.0",
            "_model_name": "DescriptionStyleModel",
            "_view_count": null,
            "_view_module": "@jupyter-widgets/base",
            "_view_module_version": "1.2.0",
            "_view_name": "StyleView",
            "description_width": ""
          }
        },
        "6099460f71254997af431ca6a629e2b1": {
          "model_module": "@jupyter-widgets/base",
          "model_module_version": "1.2.0",
          "model_name": "LayoutModel",
          "state": {
            "_model_module": "@jupyter-widgets/base",
            "_model_module_version": "1.2.0",
            "_model_name": "LayoutModel",
            "_view_count": null,
            "_view_module": "@jupyter-widgets/base",
            "_view_module_version": "1.2.0",
            "_view_name": "LayoutView",
            "align_content": null,
            "align_items": null,
            "align_self": null,
            "border": null,
            "bottom": null,
            "display": null,
            "flex": null,
            "flex_flow": null,
            "grid_area": null,
            "grid_auto_columns": null,
            "grid_auto_flow": null,
            "grid_auto_rows": null,
            "grid_column": null,
            "grid_gap": null,
            "grid_row": null,
            "grid_template_areas": null,
            "grid_template_columns": null,
            "grid_template_rows": null,
            "height": null,
            "justify_content": null,
            "justify_items": null,
            "left": null,
            "margin": null,
            "max_height": null,
            "max_width": null,
            "min_height": null,
            "min_width": null,
            "object_fit": null,
            "object_position": null,
            "order": null,
            "overflow": null,
            "overflow_x": null,
            "overflow_y": null,
            "padding": null,
            "right": null,
            "top": null,
            "visibility": null,
            "width": null
          }
        },
        "8b2e8fdcc19f41f6b2da703a3298d072": {
          "model_module": "@jupyter-widgets/controls",
          "model_module_version": "1.5.0",
          "model_name": "HTMLModel",
          "state": {
            "_dom_classes": [],
            "_model_module": "@jupyter-widgets/controls",
            "_model_module_version": "1.5.0",
            "_model_name": "HTMLModel",
            "_view_count": null,
            "_view_module": "@jupyter-widgets/controls",
            "_view_module_version": "1.5.0",
            "_view_name": "HTMLView",
            "description": "",
            "description_tooltip": null,
            "layout": "IPY_MODEL_9f7d4d67ae59450db7807f8144feb960",
            "placeholder": "​",
            "style": "IPY_MODEL_5f0159cd3959475b8e9e17c79194ad7a",
            "value": " 1260/1260 [00:00&lt;00:00, 4013.26 examples/s]"
          }
        },
        "98c036a88629491cb7451fa116849507": {
          "model_module": "@jupyter-widgets/controls",
          "model_module_version": "1.5.0",
          "model_name": "ProgressStyleModel",
          "state": {
            "_model_module": "@jupyter-widgets/controls",
            "_model_module_version": "1.5.0",
            "_model_name": "ProgressStyleModel",
            "_view_count": null,
            "_view_module": "@jupyter-widgets/base",
            "_view_module_version": "1.2.0",
            "_view_name": "StyleView",
            "bar_color": null,
            "description_width": ""
          }
        },
        "9f7d4d67ae59450db7807f8144feb960": {
          "model_module": "@jupyter-widgets/base",
          "model_module_version": "1.2.0",
          "model_name": "LayoutModel",
          "state": {
            "_model_module": "@jupyter-widgets/base",
            "_model_module_version": "1.2.0",
            "_model_name": "LayoutModel",
            "_view_count": null,
            "_view_module": "@jupyter-widgets/base",
            "_view_module_version": "1.2.0",
            "_view_name": "LayoutView",
            "align_content": null,
            "align_items": null,
            "align_self": null,
            "border": null,
            "bottom": null,
            "display": null,
            "flex": null,
            "flex_flow": null,
            "grid_area": null,
            "grid_auto_columns": null,
            "grid_auto_flow": null,
            "grid_auto_rows": null,
            "grid_column": null,
            "grid_gap": null,
            "grid_row": null,
            "grid_template_areas": null,
            "grid_template_columns": null,
            "grid_template_rows": null,
            "height": null,
            "justify_content": null,
            "justify_items": null,
            "left": null,
            "margin": null,
            "max_height": null,
            "max_width": null,
            "min_height": null,
            "min_width": null,
            "object_fit": null,
            "object_position": null,
            "order": null,
            "overflow": null,
            "overflow_x": null,
            "overflow_y": null,
            "padding": null,
            "right": null,
            "top": null,
            "visibility": null,
            "width": null
          }
        },
        "e1fe5ede5f834906a62f8f0d1ade61d6": {
          "model_module": "@jupyter-widgets/controls",
          "model_module_version": "1.5.0",
          "model_name": "HTMLModel",
          "state": {
            "_dom_classes": [],
            "_model_module": "@jupyter-widgets/controls",
            "_model_module_version": "1.5.0",
            "_model_name": "HTMLModel",
            "_view_count": null,
            "_view_module": "@jupyter-widgets/controls",
            "_view_module_version": "1.5.0",
            "_view_name": "HTMLView",
            "description": "",
            "description_tooltip": null,
            "layout": "IPY_MODEL_3ad37710e7de48bfb79498d04031b42e",
            "placeholder": "​",
            "style": "IPY_MODEL_05d6eadbd6394c61a9973adcd7f640b7",
            "value": "Map: 100%"
          }
        },
        "f39b078e8b794227a9d150b3d99e84c3": {
          "model_module": "@jupyter-widgets/controls",
          "model_module_version": "1.5.0",
          "model_name": "HBoxModel",
          "state": {
            "_dom_classes": [],
            "_model_module": "@jupyter-widgets/controls",
            "_model_module_version": "1.5.0",
            "_model_name": "HBoxModel",
            "_view_count": null,
            "_view_module": "@jupyter-widgets/controls",
            "_view_module_version": "1.5.0",
            "_view_name": "HBoxView",
            "box_style": "",
            "children": [
              "IPY_MODEL_e1fe5ede5f834906a62f8f0d1ade61d6",
              "IPY_MODEL_5e1b9cbb4c6a43619e89f2d2d1241b60",
              "IPY_MODEL_8b2e8fdcc19f41f6b2da703a3298d072"
            ],
            "layout": "IPY_MODEL_6099460f71254997af431ca6a629e2b1"
          }
        }
      }
    }
  },
  "nbformat": 4,
  "nbformat_minor": 0
}
